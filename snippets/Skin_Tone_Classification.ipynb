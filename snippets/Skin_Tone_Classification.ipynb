{
  "metadata": {
    "kernelspec": {
      "language": "python",
      "display_name": "Python 3",
      "name": "python3"
    },
    "language_info": {
      "name": "python",
      "version": "3.10.12",
      "mimetype": "text/x-python",
      "codemirror_mode": {
        "name": "ipython",
        "version": 3
      },
      "pygments_lexer": "ipython3",
      "nbconvert_exporter": "python",
      "file_extension": ".py"
    },
    "kaggle": {
      "accelerator": "nvidiaTeslaT4",
      "dataSources": [
        {
          "sourceId": 7371466,
          "sourceType": "datasetVersion",
          "datasetId": 4283018
        }
      ],
      "dockerImageVersionId": 30626,
      "isInternetEnabled": true,
      "language": "python",
      "sourceType": "notebook",
      "isGpuEnabled": true
    },
    "colab": {
      "provenance": []
    }
  },
  "nbformat_minor": 0,
  "nbformat": 4,
  "cells": [
    {
      "source": [
        "import kagglehub\n",
        "ducnguyen168_dataset_skin_tone_path = kagglehub.dataset_download('ducnguyen168/dataset-skin-tone')\n",
        "\n",
        "print('Data source import complete.')\n"
      ],
      "metadata": {
        "id": "GwSY-BVyRPRP",
        "outputId": "6ba7916b-105f-4b8f-c2e4-d5d12669dee0",
        "colab": {
          "base_uri": "https://localhost:8080/"
        }
      },
      "cell_type": "code",
      "outputs": [
        {
          "output_type": "stream",
          "name": "stdout",
          "text": [
            "Downloading from https://www.kaggle.com/api/v1/datasets/download/ducnguyen168/dataset-skin-tone?dataset_version_number=1...\n"
          ]
        },
        {
          "output_type": "stream",
          "name": "stderr",
          "text": [
            "100%|██████████| 942M/942M [00:11<00:00, 85.2MB/s]"
          ]
        },
        {
          "output_type": "stream",
          "name": "stdout",
          "text": [
            "Extracting files...\n"
          ]
        },
        {
          "output_type": "stream",
          "name": "stderr",
          "text": [
            "\n"
          ]
        },
        {
          "output_type": "stream",
          "name": "stdout",
          "text": [
            "Data source import complete.\n"
          ]
        }
      ],
      "execution_count": null
    },
    {
      "cell_type": "code",
      "source": [
        "import torch\n",
        "import torch.nn as nn\n",
        "import torch.optim as optim\n",
        "from torch.optim import lr_scheduler\n",
        "import torch.backends.cudnn as cudnn\n",
        "import numpy as np\n",
        "import torchvision\n",
        "from torchvision import datasets, models, transforms\n",
        "import matplotlib.pyplot as plt\n",
        "import time\n",
        "import os\n",
        "from PIL import Image\n",
        "from tempfile import TemporaryDirectory\n",
        "\n",
        "cudnn.benchmark = True\n",
        "plt.ion()   # interactive mode"
      ],
      "metadata": {
        "execution": {
          "iopub.status.busy": "2024-01-11T11:16:31.982442Z",
          "iopub.execute_input": "2024-01-11T11:16:31.983131Z",
          "iopub.status.idle": "2024-01-11T11:16:33.701242Z",
          "shell.execute_reply.started": "2024-01-11T11:16:31.983095Z",
          "shell.execute_reply": "2024-01-11T11:16:33.700187Z"
        },
        "trusted": true,
        "id": "jkli-LBlRPRS",
        "outputId": "94aafb5e-bddf-4ce4-f4dc-d8e6795d7b97",
        "colab": {
          "base_uri": "https://localhost:8080/"
        }
      },
      "execution_count": 3,
      "outputs": [
        {
          "output_type": "execute_result",
          "data": {
            "text/plain": [
              "<contextlib.ExitStack at 0x7c419a762b10>"
            ]
          },
          "metadata": {},
          "execution_count": 3
        }
      ]
    },
    {
      "cell_type": "markdown",
      "source": [
        "Load Data"
      ],
      "metadata": {
        "id": "R8SV-4r_RPRT"
      }
    },
    {
      "cell_type": "code",
      "source": [
        "import os\n",
        "import torch\n",
        "from torchvision import transforms, datasets\n",
        "\n",
        "data_transforms = {\n",
        "    'train': transforms.Compose([\n",
        "        transforms.Resize((224, 224)),\n",
        "        transforms.ToTensor(),\n",
        "        transforms.Normalize([0.485, 0.456, 0.406], [0.229, 0.224, 0.225])\n",
        "    ]),\n",
        "    'val': transforms.Compose([\n",
        "        transforms.Resize((224, 224)),\n",
        "        transforms.ToTensor(),\n",
        "        transforms.Normalize([0.485, 0.456, 0.406], [0.229, 0.224, 0.225])\n",
        "    ]),\n",
        "#     'test': transforms.Compose([\n",
        "#         transforms.Resize((224, 224)),\n",
        "#         transforms.ToTensor(),\n",
        "#         transforms.Normalize([0.485, 0.456, 0.406], [0.229, 0.224, 0.225])\n",
        "#     ]),\n",
        "}\n",
        "\n",
        "data_dir = '/root/.cache/kagglehub/datasets/ducnguyen168/dataset-skin-tone/versions/1/data_skintone'\n",
        "\n",
        "# Load all data\n",
        "all_data = datasets.ImageFolder(data_dir, data_transforms['train'])\n",
        "\n",
        "# Calculate the size of train, val, test datasets\n",
        "total_size = len(all_data)\n",
        "train_size = int(0.8 * total_size)\n",
        "val_size = (total_size - train_size)\n",
        "\n",
        "\n",
        "# Split the data\n",
        "train_data, val_data = torch.utils.data.random_split(\n",
        "    all_data, [train_size, val_size])\n",
        "\n",
        "# Create dataloaders\n",
        "dataloaders = {\n",
        "    'train': torch.utils.data.DataLoader(train_data, batch_size=32, shuffle=True, num_workers=4),\n",
        "    'val': torch.utils.data.DataLoader(val_data, batch_size=32, shuffle=False, num_workers=4),\n",
        "}\n",
        "\n",
        "dataset_sizes = {\n",
        "    'train': len(train_data),\n",
        "    'val': len(val_data),\n",
        "}\n",
        "\n",
        "class_names = all_data.classes\n",
        "\n",
        "device = torch.device(\"cuda:0\" if torch.cuda.is_available() else \"cpu\")\n",
        "print(class_names)\n",
        "print(device)\n",
        "print(dataset_sizes)"
      ],
      "metadata": {
        "execution": {
          "iopub.status.busy": "2024-01-11T11:16:36.577094Z",
          "iopub.execute_input": "2024-01-11T11:16:36.578039Z",
          "iopub.status.idle": "2024-01-11T11:16:45.745137Z",
          "shell.execute_reply.started": "2024-01-11T11:16:36.578Z",
          "shell.execute_reply": "2024-01-11T11:16:45.744149Z"
        },
        "trusted": true,
        "id": "ZQrd0YC8RPRU",
        "outputId": "ee30ccf2-940d-413a-d09e-ea809dd0e587",
        "colab": {
          "base_uri": "https://localhost:8080/",
          "height": 373
        }
      },
      "execution_count": 5,
      "outputs": [
        {
          "output_type": "error",
          "ename": "FileNotFoundError",
          "evalue": "[Errno 2] No such file or directory: '/root/.cache/kagglehub/datasets/ducnguyen168/dataset-skin-tone/versions/1/data_skintone'",
          "traceback": [
            "\u001b[0;31m---------------------------------------------------------------------------\u001b[0m",
            "\u001b[0;31mFileNotFoundError\u001b[0m                         Traceback (most recent call last)",
            "\u001b[0;32m/tmp/ipython-input-5-4173180232.py\u001b[0m in \u001b[0;36m<cell line: 0>\u001b[0;34m()\u001b[0m\n\u001b[1;32m     24\u001b[0m \u001b[0;34m\u001b[0m\u001b[0m\n\u001b[1;32m     25\u001b[0m \u001b[0;31m# Load all data\u001b[0m\u001b[0;34m\u001b[0m\u001b[0;34m\u001b[0m\u001b[0m\n\u001b[0;32m---> 26\u001b[0;31m \u001b[0mall_data\u001b[0m \u001b[0;34m=\u001b[0m \u001b[0mdatasets\u001b[0m\u001b[0;34m.\u001b[0m\u001b[0mImageFolder\u001b[0m\u001b[0;34m(\u001b[0m\u001b[0mdata_dir\u001b[0m\u001b[0;34m,\u001b[0m \u001b[0mdata_transforms\u001b[0m\u001b[0;34m[\u001b[0m\u001b[0;34m'train'\u001b[0m\u001b[0;34m]\u001b[0m\u001b[0;34m)\u001b[0m\u001b[0;34m\u001b[0m\u001b[0;34m\u001b[0m\u001b[0m\n\u001b[0m\u001b[1;32m     27\u001b[0m \u001b[0;34m\u001b[0m\u001b[0m\n\u001b[1;32m     28\u001b[0m \u001b[0;31m# Calculate the size of train, val, test datasets\u001b[0m\u001b[0;34m\u001b[0m\u001b[0;34m\u001b[0m\u001b[0m\n",
            "\u001b[0;32m/usr/local/lib/python3.11/dist-packages/torchvision/datasets/folder.py\u001b[0m in \u001b[0;36m__init__\u001b[0;34m(self, root, transform, target_transform, loader, is_valid_file, allow_empty)\u001b[0m\n\u001b[1;32m    326\u001b[0m         \u001b[0mallow_empty\u001b[0m\u001b[0;34m:\u001b[0m \u001b[0mbool\u001b[0m \u001b[0;34m=\u001b[0m \u001b[0;32mFalse\u001b[0m\u001b[0;34m,\u001b[0m\u001b[0;34m\u001b[0m\u001b[0;34m\u001b[0m\u001b[0m\n\u001b[1;32m    327\u001b[0m     ):\n\u001b[0;32m--> 328\u001b[0;31m         super().__init__(\n\u001b[0m\u001b[1;32m    329\u001b[0m             \u001b[0mroot\u001b[0m\u001b[0;34m,\u001b[0m\u001b[0;34m\u001b[0m\u001b[0;34m\u001b[0m\u001b[0m\n\u001b[1;32m    330\u001b[0m             \u001b[0mloader\u001b[0m\u001b[0;34m,\u001b[0m\u001b[0;34m\u001b[0m\u001b[0;34m\u001b[0m\u001b[0m\n",
            "\u001b[0;32m/usr/local/lib/python3.11/dist-packages/torchvision/datasets/folder.py\u001b[0m in \u001b[0;36m__init__\u001b[0;34m(self, root, loader, extensions, transform, target_transform, is_valid_file, allow_empty)\u001b[0m\n\u001b[1;32m    147\u001b[0m     ) -> None:\n\u001b[1;32m    148\u001b[0m         \u001b[0msuper\u001b[0m\u001b[0;34m(\u001b[0m\u001b[0;34m)\u001b[0m\u001b[0;34m.\u001b[0m\u001b[0m__init__\u001b[0m\u001b[0;34m(\u001b[0m\u001b[0mroot\u001b[0m\u001b[0;34m,\u001b[0m \u001b[0mtransform\u001b[0m\u001b[0;34m=\u001b[0m\u001b[0mtransform\u001b[0m\u001b[0;34m,\u001b[0m \u001b[0mtarget_transform\u001b[0m\u001b[0;34m=\u001b[0m\u001b[0mtarget_transform\u001b[0m\u001b[0;34m)\u001b[0m\u001b[0;34m\u001b[0m\u001b[0;34m\u001b[0m\u001b[0m\n\u001b[0;32m--> 149\u001b[0;31m         \u001b[0mclasses\u001b[0m\u001b[0;34m,\u001b[0m \u001b[0mclass_to_idx\u001b[0m \u001b[0;34m=\u001b[0m \u001b[0mself\u001b[0m\u001b[0;34m.\u001b[0m\u001b[0mfind_classes\u001b[0m\u001b[0;34m(\u001b[0m\u001b[0mself\u001b[0m\u001b[0;34m.\u001b[0m\u001b[0mroot\u001b[0m\u001b[0;34m)\u001b[0m\u001b[0;34m\u001b[0m\u001b[0;34m\u001b[0m\u001b[0m\n\u001b[0m\u001b[1;32m    150\u001b[0m         samples = self.make_dataset(\n\u001b[1;32m    151\u001b[0m             \u001b[0mself\u001b[0m\u001b[0;34m.\u001b[0m\u001b[0mroot\u001b[0m\u001b[0;34m,\u001b[0m\u001b[0;34m\u001b[0m\u001b[0;34m\u001b[0m\u001b[0m\n",
            "\u001b[0;32m/usr/local/lib/python3.11/dist-packages/torchvision/datasets/folder.py\u001b[0m in \u001b[0;36mfind_classes\u001b[0;34m(self, directory)\u001b[0m\n\u001b[1;32m    232\u001b[0m             \u001b[0;34m(\u001b[0m\u001b[0mTuple\u001b[0m\u001b[0;34m[\u001b[0m\u001b[0mList\u001b[0m\u001b[0;34m[\u001b[0m\u001b[0mstr\u001b[0m\u001b[0;34m]\u001b[0m\u001b[0;34m,\u001b[0m \u001b[0mDict\u001b[0m\u001b[0;34m[\u001b[0m\u001b[0mstr\u001b[0m\u001b[0;34m,\u001b[0m \u001b[0mint\u001b[0m\u001b[0;34m]\u001b[0m\u001b[0;34m]\u001b[0m\u001b[0;34m)\u001b[0m\u001b[0;34m:\u001b[0m \u001b[0mList\u001b[0m \u001b[0mof\u001b[0m \u001b[0mall\u001b[0m \u001b[0mclasses\u001b[0m \u001b[0;32mand\u001b[0m \u001b[0mdictionary\u001b[0m \u001b[0mmapping\u001b[0m \u001b[0meach\u001b[0m \u001b[0;32mclass\u001b[0m \u001b[0mto\u001b[0m \u001b[0man\u001b[0m \u001b[0mindex\u001b[0m\u001b[0;34m.\u001b[0m\u001b[0;34m\u001b[0m\u001b[0;34m\u001b[0m\u001b[0m\n\u001b[1;32m    233\u001b[0m         \"\"\"\n\u001b[0;32m--> 234\u001b[0;31m         \u001b[0;32mreturn\u001b[0m \u001b[0mfind_classes\u001b[0m\u001b[0;34m(\u001b[0m\u001b[0mdirectory\u001b[0m\u001b[0;34m)\u001b[0m\u001b[0;34m\u001b[0m\u001b[0;34m\u001b[0m\u001b[0m\n\u001b[0m\u001b[1;32m    235\u001b[0m \u001b[0;34m\u001b[0m\u001b[0m\n\u001b[1;32m    236\u001b[0m     \u001b[0;32mdef\u001b[0m \u001b[0m__getitem__\u001b[0m\u001b[0;34m(\u001b[0m\u001b[0mself\u001b[0m\u001b[0;34m,\u001b[0m \u001b[0mindex\u001b[0m\u001b[0;34m:\u001b[0m \u001b[0mint\u001b[0m\u001b[0;34m)\u001b[0m \u001b[0;34m->\u001b[0m \u001b[0mTuple\u001b[0m\u001b[0;34m[\u001b[0m\u001b[0mAny\u001b[0m\u001b[0;34m,\u001b[0m \u001b[0mAny\u001b[0m\u001b[0;34m]\u001b[0m\u001b[0;34m:\u001b[0m\u001b[0;34m\u001b[0m\u001b[0;34m\u001b[0m\u001b[0m\n",
            "\u001b[0;32m/usr/local/lib/python3.11/dist-packages/torchvision/datasets/folder.py\u001b[0m in \u001b[0;36mfind_classes\u001b[0;34m(directory)\u001b[0m\n\u001b[1;32m     39\u001b[0m     \u001b[0mSee\u001b[0m \u001b[0;34m:\u001b[0m\u001b[0;32mclass\u001b[0m\u001b[0;34m:\u001b[0m\u001b[0;31m`\u001b[0m\u001b[0mDatasetFolder\u001b[0m\u001b[0;31m`\u001b[0m \u001b[0;32mfor\u001b[0m \u001b[0mdetails\u001b[0m\u001b[0;34m.\u001b[0m\u001b[0;34m\u001b[0m\u001b[0;34m\u001b[0m\u001b[0m\n\u001b[1;32m     40\u001b[0m     \"\"\"\n\u001b[0;32m---> 41\u001b[0;31m     \u001b[0mclasses\u001b[0m \u001b[0;34m=\u001b[0m \u001b[0msorted\u001b[0m\u001b[0;34m(\u001b[0m\u001b[0mentry\u001b[0m\u001b[0;34m.\u001b[0m\u001b[0mname\u001b[0m \u001b[0;32mfor\u001b[0m \u001b[0mentry\u001b[0m \u001b[0;32min\u001b[0m \u001b[0mos\u001b[0m\u001b[0;34m.\u001b[0m\u001b[0mscandir\u001b[0m\u001b[0;34m(\u001b[0m\u001b[0mdirectory\u001b[0m\u001b[0;34m)\u001b[0m \u001b[0;32mif\u001b[0m \u001b[0mentry\u001b[0m\u001b[0;34m.\u001b[0m\u001b[0mis_dir\u001b[0m\u001b[0;34m(\u001b[0m\u001b[0;34m)\u001b[0m\u001b[0;34m)\u001b[0m\u001b[0;34m\u001b[0m\u001b[0;34m\u001b[0m\u001b[0m\n\u001b[0m\u001b[1;32m     42\u001b[0m     \u001b[0;32mif\u001b[0m \u001b[0;32mnot\u001b[0m \u001b[0mclasses\u001b[0m\u001b[0;34m:\u001b[0m\u001b[0;34m\u001b[0m\u001b[0;34m\u001b[0m\u001b[0m\n\u001b[1;32m     43\u001b[0m         \u001b[0;32mraise\u001b[0m \u001b[0mFileNotFoundError\u001b[0m\u001b[0;34m(\u001b[0m\u001b[0;34mf\"Couldn't find any class folder in {directory}.\"\u001b[0m\u001b[0;34m)\u001b[0m\u001b[0;34m\u001b[0m\u001b[0;34m\u001b[0m\u001b[0m\n",
            "\u001b[0;31mFileNotFoundError\u001b[0m: [Errno 2] No such file or directory: '/root/.cache/kagglehub/datasets/ducnguyen168/dataset-skin-tone/versions/1/data_skintone'"
          ]
        }
      ]
    },
    {
      "cell_type": "code",
      "source": [
        "!mkdir output"
      ],
      "metadata": {
        "execution": {
          "iopub.status.busy": "2024-01-11T11:16:49.936121Z",
          "iopub.execute_input": "2024-01-11T11:16:49.93706Z",
          "iopub.status.idle": "2024-01-11T11:16:50.913328Z",
          "shell.execute_reply.started": "2024-01-11T11:16:49.937023Z",
          "shell.execute_reply": "2024-01-11T11:16:50.912228Z"
        },
        "trusted": true,
        "id": "3le3keaaRPRU"
      },
      "execution_count": null,
      "outputs": []
    },
    {
      "cell_type": "code",
      "source": [
        "import matplotlib.pyplot as plt\n",
        "import os\n",
        "\n",
        "def train_model(model, criterion, optimizer, scheduler, num_epochs=100):\n",
        "    since = time.time()\n",
        "\n",
        "    # Create a temporary directory to save training checkpoints\n",
        "    with TemporaryDirectory() as tempdir:\n",
        "        best_model_params_path = os.path.join(\"output\", 'best_model_paramsfore32.pt')\n",
        "\n",
        "        torch.save(model.state_dict(), best_model_params_path)\n",
        "        best_acc = 0.0\n",
        "\n",
        "        # Lists to store training history\n",
        "        train_loss_history = []\n",
        "        train_acc_history = []\n",
        "        val_loss_history = []\n",
        "        val_acc_history = []\n",
        "\n",
        "        for epoch in range(num_epochs):\n",
        "            print(f'Epoch {epoch}/{num_epochs - 1}')\n",
        "            print('-' * 10)\n",
        "\n",
        "            # Each epoch has a training and validation phase\n",
        "            for phase in ['train', 'val']:\n",
        "                if phase == 'train':\n",
        "                    model.train()  # Set model to training mode\n",
        "                else:\n",
        "                    model.eval()   # Set model to evaluate mode\n",
        "\n",
        "                running_loss = 0.0\n",
        "                running_corrects = 0\n",
        "\n",
        "                # Iterate over data.\n",
        "                for inputs, labels in dataloaders[phase]:\n",
        "                    inputs = inputs.to(device)\n",
        "                    labels = labels.to(device)\n",
        "\n",
        "                    optimizer.zero_grad()\n",
        "\n",
        "                    with torch.set_grad_enabled(phase == 'train'):\n",
        "                        outputs = model(inputs)\n",
        "                        _, preds = torch.max(outputs, 1)\n",
        "                        loss = criterion(outputs, labels)\n",
        "\n",
        "                        if phase == 'train':\n",
        "                            loss.backward()\n",
        "                            optimizer.step()\n",
        "\n",
        "                    running_loss += loss.item() * inputs.size(0)\n",
        "                    running_corrects += torch.sum(preds == labels.data)\n",
        "                if phase == 'train':\n",
        "                    scheduler.step()\n",
        "\n",
        "                epoch_loss = running_loss / dataset_sizes[phase]\n",
        "                epoch_acc = running_corrects.double() / dataset_sizes[phase]\n",
        "\n",
        "                print(f'{phase} Loss: {epoch_loss:.4f} Acc: {epoch_acc:.4f}')\n",
        "\n",
        "                # Save history for plotting\n",
        "                if phase == 'train':\n",
        "                    train_loss_history.append(epoch_loss)\n",
        "                    train_acc_history.append(epoch_acc)\n",
        "                else:\n",
        "                    val_loss_history.append(epoch_loss)\n",
        "                    val_acc_history.append(epoch_acc)\n",
        "\n",
        "                if phase == 'val' and epoch_acc > best_acc:\n",
        "                    best_acc = epoch_acc\n",
        "                    best_loss = epoch_loss\n",
        "                    torch.save(model.state_dict(), best_model_params_path)\n",
        "            if epoch % 10 == 0:\n",
        "              last_model_params_path = os.path.join(\"output\", f'last_model_params_epoh_{epoch}fo32g.pt')\n",
        "              torch.save(model.state_dict(), last_model_params_path)\n",
        "            print()\n",
        "\n",
        "        time_elapsed = time.time() - since\n",
        "        print(f'Training complete in {time_elapsed // 60:.0f}m {time_elapsed % 60:.0f}s')\n",
        "        print(f'Best val Acc: {best_acc:4f}')\n",
        "        print(f'Best val Loss: {best_acc:4f}')\n",
        "\n",
        "        # Load best model weights\n",
        "        model.load_state_dict(torch.load(best_model_params_path))\n",
        "\n",
        "        # Plot training history\n",
        "        plot_training_history(train_loss_history, val_loss_history, train_acc_history, val_acc_history, \"output\")\n",
        "\n",
        "    return model\n",
        "\n",
        "def plot_training_history(train_loss, val_loss, train_acc, val_acc, output_dir):\n",
        "    train_loss_cpu = [loss.item() if isinstance(loss, torch.Tensor) else loss for loss in train_loss]\n",
        "    val_loss_cpu = [loss.item() if isinstance(loss, torch.Tensor) else loss for loss in val_loss]\n",
        "    train_acc_cpu = [acc.item() if isinstance(acc, torch.Tensor) else acc for acc in train_acc]\n",
        "    val_acc_cpu = [acc.item() if isinstance(acc, torch.Tensor) else acc for acc in val_acc]\n",
        "\n",
        "    # Vẽ biểu đồ Loss và Accuracy\n",
        "    def plot(title, ylabel, train_data, val_data, filename):\n",
        "        plt.figure(figsize=(10, 5))\n",
        "        plt.plot(train_data, label='Training')\n",
        "        plt.plot(val_data, label='Validation')\n",
        "        plt.title(title)\n",
        "        plt.xlabel('Epoch')\n",
        "        plt.ylabel(ylabel)\n",
        "        plt.legend()\n",
        "        plt.savefig(os.path.join(output_dir, filename))\n",
        "        plt.show()\n",
        "\n",
        "    # Vẽ biểu đồ Loss\n",
        "    plot('Training and Validation Loss', 'Loss', train_loss_cpu, val_loss_cpu, 'loss_plot150Mobilel32.png')\n",
        "\n",
        "    # Vẽ biểu đồ Accuracy\n",
        "    plot('Training and Validation Accuracy', 'Accuracy', train_acc_cpu, val_acc_cpu, 'accuracy_plot150Mobilel32.png')"
      ],
      "metadata": {
        "execution": {
          "iopub.status.busy": "2024-01-11T11:16:56.06625Z",
          "iopub.execute_input": "2024-01-11T11:16:56.067184Z",
          "iopub.status.idle": "2024-01-11T11:16:56.088989Z",
          "shell.execute_reply.started": "2024-01-11T11:16:56.06715Z",
          "shell.execute_reply": "2024-01-11T11:16:56.087958Z"
        },
        "trusted": true,
        "id": "fAUdH3QJRPRV"
      },
      "execution_count": null,
      "outputs": []
    },
    {
      "cell_type": "markdown",
      "source": [
        "Training the model"
      ],
      "metadata": {
        "id": "9_rXAfO6RPRW"
      }
    },
    {
      "cell_type": "markdown",
      "source": [
        "Finetuning the ConvNet"
      ],
      "metadata": {
        "id": "14gkIbyQRPRW"
      }
    },
    {
      "cell_type": "markdown",
      "source": [
        "Model Resnet"
      ],
      "metadata": {
        "id": "3RW76DxkRPRW"
      }
    },
    {
      "cell_type": "code",
      "source": [
        "# model_ft = torchvision.models.resnet152(pretrained = True)\n",
        "\n",
        "# # # Parameters of newly constructed modules have requires_grad=True by default\n",
        "# num_ftrs = model_ft.fc.in_features\n",
        "\n",
        "\n",
        "# model_ft.fc = nn.Sequential(\n",
        "#     nn.Dropout(0.85),\n",
        "#     nn.Linear(num_ftrs, 512),\n",
        "#     nn.Dropout(0.7),\n",
        "#     nn.Linear(512, 128),\n",
        "#     nn.Dropout(0.7),\n",
        "#     nn.Linear(128, 4)\n",
        "\n",
        "# )\n",
        "# # model_ft.fc = nn.Linear(num_ftrs, 3)\n",
        "\n",
        "# model_ft = nn.DataParallel(model_ft)\n",
        "# model_ft = model_ft.to(device)\n",
        "\n",
        "# criterion = nn.CrossEntropyLoss()\n",
        "\n",
        "# # Quan sát rằng tất cả các tham số đang được tối ưu hóa\n",
        "# optimizer_ft = optim.SGD(model_ft.parameters(), lr=0.001, momentum=0.9)\n",
        "\n",
        "# # optimizer_ft = optim.Adam(model_ft.parameters(), lr=0.001)\n",
        "\n",
        "# # Decay LR by a factor of 0.1 every 7 epochs\n",
        "# exp_lr_scheduler = lr_scheduler.StepLR(optimizer_ft, step_size=7, gamma=0.1)"
      ],
      "metadata": {
        "trusted": true,
        "id": "7hzq1zuZRPRX"
      },
      "execution_count": null,
      "outputs": []
    },
    {
      "cell_type": "markdown",
      "source": [
        "Model Mobilenet"
      ],
      "metadata": {
        "id": "YNIzZCZgRPRX"
      }
    },
    {
      "cell_type": "code",
      "source": [
        "model_ft = models.mobilenet_v2(pretrained=True)\n",
        "\n",
        "num_ftrs = model_ft.classifier[1].in_features\n",
        "model_ft.classifier = nn.Sequential(\n",
        "    nn.Dropout(0.7),\n",
        "    nn.Linear(num_ftrs, 50),\n",
        "    nn.Dropout(0.5),\n",
        "    nn.Linear(50, 4)\n",
        ")\n",
        "# model_ft.classification = nn.Linear(num_ftrs, 3)\n",
        "\n",
        "model_ft = model_ft.to(device)\n",
        "\n",
        "criterion = nn.CrossEntropyLoss()\n",
        "\n",
        "optimizer_ft = optim.SGD(model_ft.parameters(), lr=0.01, momentum=0.9)\n",
        "\n",
        "\n",
        "# Decay LR by a factor of 0.1 every 7 epochs\n",
        "exp_lr_scheduler = lr_scheduler.StepLR(optimizer_ft, step_size=7, gamma=0.1)"
      ],
      "metadata": {
        "execution": {
          "iopub.status.busy": "2024-01-11T11:17:19.103665Z",
          "iopub.execute_input": "2024-01-11T11:17:19.104531Z",
          "iopub.status.idle": "2024-01-11T11:17:19.350631Z",
          "shell.execute_reply.started": "2024-01-11T11:17:19.104499Z",
          "shell.execute_reply": "2024-01-11T11:17:19.349822Z"
        },
        "trusted": true,
        "id": "xynwfRtWRPRX"
      },
      "execution_count": null,
      "outputs": []
    },
    {
      "cell_type": "code",
      "source": [
        "model_ft = train_model(model_ft, criterion, optimizer_ft, exp_lr_scheduler,\n",
        "                       num_epochs=5)"
      ],
      "metadata": {
        "execution": {
          "iopub.status.busy": "2024-01-11T11:17:24.895565Z",
          "iopub.execute_input": "2024-01-11T11:17:24.896267Z",
          "iopub.status.idle": "2024-01-11T13:02:02.826692Z",
          "shell.execute_reply.started": "2024-01-11T11:17:24.896235Z",
          "shell.execute_reply": "2024-01-11T13:02:02.82567Z"
        },
        "trusted": true,
        "id": "HjzZ63cCRPRX",
        "outputId": "5ac58ad6-f34d-4a3e-b89f-9e3cd652d6e5",
        "colab": {
          "base_uri": "https://localhost:8080/",
          "height": 1000
        }
      },
      "execution_count": null,
      "outputs": [
        {
          "output_type": "stream",
          "name": "stdout",
          "text": [
            "Epoch 0/4\n",
            "----------\n",
            "train Loss: 0.5846 Acc: 0.7588\n",
            "val Loss: 0.3925 Acc: 0.8324\n",
            "\n",
            "Epoch 1/4\n",
            "----------\n",
            "train Loss: 0.4050 Acc: 0.8342\n",
            "val Loss: 0.3064 Acc: 0.8642\n",
            "\n",
            "Epoch 2/4\n",
            "----------\n",
            "train Loss: 0.3380 Acc: 0.8578\n",
            "val Loss: 0.3361 Acc: 0.8725\n",
            "\n",
            "Epoch 3/4\n",
            "----------\n",
            "train Loss: 0.3097 Acc: 0.8689\n",
            "val Loss: 0.2589 Acc: 0.8863\n",
            "\n",
            "Epoch 4/4\n",
            "----------\n",
            "train Loss: 0.2922 Acc: 0.8776\n",
            "val Loss: 0.2686 Acc: 0.8824\n",
            "\n",
            "Training complete in 440m 32s\n",
            "Best val Acc: 0.886268\n",
            "Best val Loss: 0.886268\n"
          ]
        },
        {
          "output_type": "display_data",
          "data": {
            "text/plain": [
              "<Figure size 1000x500 with 1 Axes>"
            ],
            "image/png": "[encoded data removed]"
          },
          "metadata": {}
        },
        {
          "output_type": "display_data",
          "data": {
            "text/plain": [
              "<Figure size 1000x500 with 1 Axes>"
            ],
            "image/png": "[encoded data removed]"
          },
          "metadata": {}
        }
      ]
    },
    {
      "cell_type": "code",
      "source": [
        "def visualize_model(model, test_folder):\n",
        "    was_training = model.training\n",
        "    model.eval()\n",
        "    label = []\n",
        "    prediction = []\n",
        "\n",
        "    for path in os.listdir(test_folder):\n",
        "        level = os.path.join(test_folder, path)\n",
        "        for img in os.listdir(level):\n",
        "            label.append(path)\n",
        "            img_path = os.path.join(level, img)\n",
        "            img = Image.open(img_path)\n",
        "            img = data_transforms['val'](img)\n",
        "            img = img.unsqueeze(0)\n",
        "            img = img.to(device)\n",
        "\n",
        "            with torch.no_grad():\n",
        "                outputs = model(img)\n",
        "                _, preds = torch.max(outputs, 1)\n",
        "                prediction.append(class_names[preds[0]])\n",
        "\n",
        "    count = sum(label[i] == prediction[i] for i in range(len(label)))\n",
        "    accuracy = count / len(label)\n",
        "    print(f'Accuracy on test set: {accuracy}')\n",
        "\n",
        "# # Load model from the best checkpoint\n",
        "model_ft.load_state_dict(torch.load(\"/content/output/best_model_paramsfore32.pt\", map_location=torch.device('cpu')))\n",
        "model_ft.to(device)\n",
        "\n",
        "# Visualize the model accuracy on the test set\n",
        "visualize_model(model_ft, '/content/AllSmile1000/test')"
      ],
      "metadata": {
        "trusted": true,
        "id": "ypoEfqghRPRY",
        "outputId": "b595af5b-5256-4e11-a908-f7179e173362",
        "colab": {
          "base_uri": "https://localhost:8080/",
          "height": 312
        }
      },
      "execution_count": null,
      "outputs": [
        {
          "output_type": "error",
          "ename": "FileNotFoundError",
          "evalue": "[Errno 2] No such file or directory: '/content/AllSmile1000/test'",
          "traceback": [
            "\u001b[0;31m---------------------------------------------------------------------------\u001b[0m",
            "\u001b[0;31mFileNotFoundError\u001b[0m                         Traceback (most recent call last)",
            "\u001b[0;32m<ipython-input-19-920012807>\u001b[0m in \u001b[0;36m<cell line: 0>\u001b[0;34m()\u001b[0m\n\u001b[1;32m     29\u001b[0m \u001b[0;34m\u001b[0m\u001b[0m\n\u001b[1;32m     30\u001b[0m \u001b[0;31m# Visualize the model accuracy on the test set\u001b[0m\u001b[0;34m\u001b[0m\u001b[0;34m\u001b[0m\u001b[0m\n\u001b[0;32m---> 31\u001b[0;31m \u001b[0mvisualize_model\u001b[0m\u001b[0;34m(\u001b[0m\u001b[0mmodel_ft\u001b[0m\u001b[0;34m,\u001b[0m \u001b[0;34m'/content/AllSmile1000/test'\u001b[0m\u001b[0;34m)\u001b[0m\u001b[0;34m\u001b[0m\u001b[0;34m\u001b[0m\u001b[0m\n\u001b[0m",
            "\u001b[0;32m<ipython-input-19-920012807>\u001b[0m in \u001b[0;36mvisualize_model\u001b[0;34m(model, test_folder)\u001b[0m\n\u001b[1;32m      5\u001b[0m     \u001b[0mprediction\u001b[0m \u001b[0;34m=\u001b[0m \u001b[0;34m[\u001b[0m\u001b[0;34m]\u001b[0m\u001b[0;34m\u001b[0m\u001b[0;34m\u001b[0m\u001b[0m\n\u001b[1;32m      6\u001b[0m \u001b[0;34m\u001b[0m\u001b[0m\n\u001b[0;32m----> 7\u001b[0;31m     \u001b[0;32mfor\u001b[0m \u001b[0mpath\u001b[0m \u001b[0;32min\u001b[0m \u001b[0mos\u001b[0m\u001b[0;34m.\u001b[0m\u001b[0mlistdir\u001b[0m\u001b[0;34m(\u001b[0m\u001b[0mtest_folder\u001b[0m\u001b[0;34m)\u001b[0m\u001b[0;34m:\u001b[0m\u001b[0;34m\u001b[0m\u001b[0;34m\u001b[0m\u001b[0m\n\u001b[0m\u001b[1;32m      8\u001b[0m         \u001b[0mlevel\u001b[0m \u001b[0;34m=\u001b[0m \u001b[0mos\u001b[0m\u001b[0;34m.\u001b[0m\u001b[0mpath\u001b[0m\u001b[0;34m.\u001b[0m\u001b[0mjoin\u001b[0m\u001b[0;34m(\u001b[0m\u001b[0mtest_folder\u001b[0m\u001b[0;34m,\u001b[0m \u001b[0mpath\u001b[0m\u001b[0;34m)\u001b[0m\u001b[0;34m\u001b[0m\u001b[0;34m\u001b[0m\u001b[0m\n\u001b[1;32m      9\u001b[0m         \u001b[0;32mfor\u001b[0m \u001b[0mimg\u001b[0m \u001b[0;32min\u001b[0m \u001b[0mos\u001b[0m\u001b[0;34m.\u001b[0m\u001b[0mlistdir\u001b[0m\u001b[0;34m(\u001b[0m\u001b[0mlevel\u001b[0m\u001b[0;34m)\u001b[0m\u001b[0;34m:\u001b[0m\u001b[0;34m\u001b[0m\u001b[0;34m\u001b[0m\u001b[0m\n",
            "\u001b[0;31mFileNotFoundError\u001b[0m: [Errno 2] No such file or directory: '/content/AllSmile1000/test'"
          ]
        }
      ]
    },
    {
      "cell_type": "markdown",
      "source": [
        "Predict"
      ],
      "metadata": {
        "id": "DcWttRbBRPRY"
      }
    },
    {
      "cell_type": "code",
      "source": [
        "\n",
        "# Test on a single image\n",
        "image_path = '/root/.cache/kagglehub/datasets/ducnguyen168/dataset-skin-tone/versions/1/data_skintone/light/100016175.jpg'\n",
        "image = Image.open(image_path)\n",
        "\n",
        "# Apply the same transformations as the validation set\n",
        "transform = data_transforms['val']\n",
        "image = transform(image).unsqueeze(0) # Add batch dimension\n",
        "\n",
        "# Move the image to the same device as the model\n",
        "image = image.to(device)\n",
        "\n",
        "# Set the model to evaluation mode\n",
        "model_ft.eval()\n",
        "\n",
        "# Make a prediction\n",
        "with torch.no_grad():\n",
        "    outputs = model_ft(image)\n",
        "    _, predicted_class_index = torch.max(outputs, 1)\n",
        "\n",
        "# Get the class name\n",
        "predicted_class_name = class_names[predicted_class_index.item()]\n",
        "\n",
        "print(f'The predicted skin tone for the image {image_path} is: {predicted_class_name}')"
      ],
      "metadata": {
        "id": "OwyCR0yqPnnM",
        "outputId": "a6f2512e-4ce5-408d-ed19-6e388bf35acf",
        "colab": {
          "base_uri": "https://localhost:8080/"
        }
      },
      "execution_count": null,
      "outputs": [
        {
          "output_type": "stream",
          "name": "stdout",
          "text": [
            "The predicted skin tone for the image /root/.cache/kagglehub/datasets/ducnguyen168/dataset-skin-tone/versions/1/data_skintone/light/100016175.jpg is: mid-light\n"
          ]
        }
      ]
    },
    {
      "cell_type": "code",
      "source": [
        "# prompt: download pt best model to pc\n",
        "\n",
        "from google.colab import files\n",
        "\n",
        "files.download(\"/content/output/best_model_paramsfore32.pt\")"
      ],
      "metadata": {
        "id": "yDwpv5oTQC49",
        "outputId": "fae5a723-c950-4c37-84af-6d67d97d7b3f",
        "colab": {
          "base_uri": "https://localhost:8080/",
          "height": 17
        }
      },
      "execution_count": null,
      "outputs": [
        {
          "output_type": "display_data",
          "data": {
            "text/plain": [
              "<IPython.core.display.Javascript object>"
            ],
            "application/javascript": [
              "\n",
              "    async function download(id, filename, size) {\n",
              "      if (!google.colab.kernel.accessAllowed) {\n",
              "        return;\n",
              "      }\n",
              "      const div = document.createElement('div');\n",
              "      const label = document.createElement('label');\n",
              "      label.textContent = `Downloading \"${filename}\": `;\n",
              "      div.appendChild(label);\n",
              "      const progress = document.createElement('progress');\n",
              "      progress.max = size;\n",
              "      div.appendChild(progress);\n",
              "      document.body.appendChild(div);\n",
              "\n",
              "      const buffers = [];\n",
              "      let downloaded = 0;\n",
              "\n",
              "      const channel = await google.colab.kernel.comms.open(id);\n",
              "      // Send a message to notify the kernel that we're ready.\n",
              "      channel.send({})\n",
              "\n",
              "      for await (const message of channel.messages) {\n",
              "        // Send a message to notify the kernel that we're ready.\n",
              "        channel.send({})\n",
              "        if (message.buffers) {\n",
              "          for (const buffer of message.buffers) {\n",
              "            buffers.push(buffer);\n",
              "            downloaded += buffer.byteLength;\n",
              "            progress.value = downloaded;\n",
              "          }\n",
              "        }\n",
              "      }\n",
              "      const blob = new Blob(buffers, {type: 'application/binary'});\n",
              "      const a = document.createElement('a');\n",
              "      a.href = window.URL.createObjectURL(blob);\n",
              "      a.download = filename;\n",
              "      div.appendChild(a);\n",
              "      a.click();\n",
              "      div.remove();\n",
              "    }\n",
              "  "
            ]
          },
          "metadata": {}
        },
        {
          "output_type": "display_data",
          "data": {
            "text/plain": [
              "<IPython.core.display.Javascript object>"
            ],
            "application/javascript": [
              "download(\"download_e0bfcaa9-f6ce-46f0-afb1-c9958c39e4ab\", \"best_model_paramsfore32.pt\", 9398202)"
            ]
          },
          "metadata": {}
        }
      ]
    }
  ]
}